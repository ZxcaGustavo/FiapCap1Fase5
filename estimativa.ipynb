{
  "nbformat": 4,
  "nbformat_minor": 0,
  "metadata": {
    "colab": {
      "provenance": [],
      "authorship_tag": "ABX9TyPMzqpIrlbpumcY/55N35hh",
      "include_colab_link": true
    },
    "kernelspec": {
      "name": "python3",
      "display_name": "Python 3"
    },
    "language_info": {
      "name": "python"
    }
  },
  "cells": [
    {
      "cell_type": "markdown",
      "metadata": {
        "id": "view-in-github",
        "colab_type": "text"
      },
      "source": [
        "<a href=\"https://colab.research.google.com/github/ZxcaGustavo/FiapCap1Fase5/blob/main/estimativa.ipynb\" target=\"_parent\"><img src=\"https://colab.research.google.com/assets/colab-badge.svg\" alt=\"Open In Colab\"/></a>"
      ]
    },
    {
      "cell_type": "code",
      "execution_count": null,
      "metadata": {
        "id": "yjUYxPijm0w3"
      },
      "outputs": [],
      "source": [
        "from google.colab import files\n",
        "import pandas as pd\n",
        "\n",
        "# Fazer o upload do arquivo\n",
        "uploaded = files.upload()\n",
        "\n",
        "# Ler o arquivo CSV para um DataFrame\n",
        "file_name = list(uploaded.keys())[0]  # Pega o nome do arquivo enviado\n",
        "# Substituindo 'error_bad_lines' por 'on_bad_lines' e definindo como 'skip' para ignorar linhas com erro.\n",
        "data = pd.read_csv(file_name, on_bad_lines='skip')\n",
        "\n",
        "# Exibir as primeiras linhas do DataFrame\n",
        "print(data.head())\n"
      ]
    }
  ]
}